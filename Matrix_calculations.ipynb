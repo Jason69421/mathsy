{
 "cells": [
  {
   "cell_type": "markdown",
   "metadata": {},
   "source": [
    "<br>\n",
    "<h1>Matrix Determinant</h1>\n",
    "<br>"
   ]
  },
  {
   "cell_type": "code",
   "execution_count": 58,
   "metadata": {},
   "outputs": [],
   "source": [
    "from IPython.display import display\n",
    "from ipywidgets import widgets, Layout, Text, Label, HTMLMath, VBox, HBox\n",
    "from sympy import Symbol, simplify\n",
    "import timeit\n",
    "from fractions import Fraction"
   ]
  },
  {
   "cell_type": "code",
   "execution_count": 43,
   "metadata": {},
   "outputs": [
    {
     "data": {
      "application/vnd.jupyter.widget-view+json": {
       "model_id": "8ad334759194488396c43744806b6e13",
       "version_major": 2,
       "version_minor": 0
      },
      "text/plain": [
       "VBox(children=(HBox(children=(Text(value='', layout=Layout(height='30px', width='60px')), Text(value='', layou…"
      ]
     },
     "metadata": {},
     "output_type": "display_data"
    },
    {
     "data": {
      "application/vnd.jupyter.widget-view+json": {
       "model_id": "e4e957a92ec54eeb894937ce41929909",
       "version_major": 2,
       "version_minor": 0
      },
      "text/plain": [
       "HTMLMath(value=\"<font color = 'white'><font size='3px'>$$Determinant:$$\")"
      ]
     },
     "metadata": {},
     "output_type": "display_data"
    },
    {
     "data": {
      "application/vnd.jupyter.widget-view+json": {
       "model_id": "7fe1220ea05e45618ea6f0303c28d614",
       "version_major": 2,
       "version_minor": 0
      },
      "text/plain": [
       "HTMLMath(value=\"<font color = 'white'><font size='3px'>Time taken:\")"
      ]
     },
     "metadata": {},
     "output_type": "display_data"
    }
   ],
   "source": [
    "def det_time():\n",
    "    setup_code = '''\n",
    "from __main__ import cal_det\n",
    "from sympy import Symbol, simplify\n",
    "    '''\n",
    "    test_code = '''\n",
    "cal_det()\n",
    "'''\n",
    "    times = timeit.repeat(setup=setup_code, stmt=test_code, repeat=1, number=1)\n",
    "    return min(times)\n",
    "\n",
    "\n",
    "def cal_det():\n",
    "    global matrix, m\n",
    "    m = [None] * 9\n",
    "    for i in range(9):\n",
    "        m[i] = f'{items[i].value}'\n",
    "    matrix = m\n",
    "    sym = list(set([i for j in m for i in j if i.isalpha()]))\n",
    "    if len(sym) > 0:\n",
    "        for i in sym:\n",
    "            exec(f\"{i} = Symbol('{i}')\")\n",
    "    else:\n",
    "        m = [float(i) for i in matrix]\n",
    "        return (m[0] * (m[4] * m[8] - m[5] * m[7])) + (m[1] * (m[5] * m[6] - m[3] * m[8])) + (m[2] * (m[3] * m[7] - m[4] * m[6]))\n",
    "    deter = f'({m[0]} * ({m[4]} * {m[8]} - {m[5]} * {m[7]})) + ({m[1]} * ({m[5]} * {m[6]} - {m[3]} * {m[8]})) + ({m[2]} * ({m[3]} * {m[7]} - {m[4]} * {m[6]}))'\n",
    "    return f'{simplify(deter)}'.replace('**', '^').replace('*', '')\n",
    "\n",
    "\n",
    "def det(sender):\n",
    "    # try:\n",
    "    det1 = cal_det()\n",
    "    if str(det1).endswith('.0'):\n",
    "        det2 = int(det1)\n",
    "    else:\n",
    "        try:\n",
    "            det2 = round(det1,5)\n",
    "        except: \n",
    "            det2 = det1\n",
    "    x = det_time()\n",
    "    plc1 = det2\n",
    "    plc2 = f'{x:.13f}'\n",
    "    answer.value = r\"<font color = 'white'><font size='3px'> $$Determinant: {} $$ \".format(\n",
    "        plc1)\n",
    "    time1.value = r\"<font color = 'white'><font size='3px'>Time taken: {} seconds \".format(\n",
    "        plc2)\n",
    "#     except:\n",
    "#         answer.value = r\"<font color = 'white'><font size='3px'>Determinant: N/A\"\n",
    "#         time1.value = r\"<font color = 'white'><font size='3px'>Time taken: N/A\"\n",
    "\n",
    "\n",
    "dic1 = {'answer': '$$Determinant:$$', 'time1': 'Time taken:'}\n",
    "\n",
    "items = [Text(layout=Layout(width='60px', height='30px'))\n",
    "         for w in range(1, 10)]\n",
    "lst = [HBox(items[:3]), HBox(items[3:6]), HBox(items[6:9])]\n",
    "display(VBox(lst))\n",
    "for i in range(9):\n",
    "    exec(f'items[{i}].on_submit(det)')\n",
    "\n",
    "for j in dic2:\n",
    "    exec(\n",
    "        f\"\"\"{j}=HTMLMath(value=r\"<font color = 'white'><font size='3px'>{dic1[j]}\")\"\"\")\n",
    "    exec(f'display({j})')"
   ]
  },
  {
   "cell_type": "markdown",
   "metadata": {},
   "source": [
    "<br>\n",
    "<hr style=\"height:2px;border-width:0;color:gray;background-color:gray\">\n",
    "<h1>Matrix Inverse</h1>\n",
    "<br>"
   ]
  },
  {
   "cell_type": "code",
   "execution_count": 73,
   "metadata": {},
   "outputs": [
    {
     "data": {
      "application/vnd.jupyter.widget-view+json": {
       "model_id": "f865fd37a5d141e1a53d534ef87cff8b",
       "version_major": 2,
       "version_minor": 0
      },
      "text/plain": [
       "VBox(children=(HBox(children=(Text(value='', layout=Layout(height='30px', width='60px')), Text(value='', layou…"
      ]
     },
     "metadata": {},
     "output_type": "display_data"
    },
    {
     "data": {
      "application/vnd.jupyter.widget-view+json": {
       "model_id": "b115165521c641cfbe7b905f499e80b8",
       "version_major": 2,
       "version_minor": 0
      },
      "text/plain": [
       "HTMLMath(value=\"<font color = 'white'><font size='3px'>$$Inverse:$$\")"
      ]
     },
     "metadata": {},
     "output_type": "display_data"
    },
    {
     "data": {
      "application/vnd.jupyter.widget-view+json": {
       "model_id": "57cc46de31934d4d967bc1177105644f",
       "version_major": 2,
       "version_minor": 0
      },
      "text/plain": [
       "HTMLMath(value=\"<font color = 'white'><font size='3px'>Time taken:\")"
      ]
     },
     "metadata": {},
     "output_type": "display_data"
    }
   ],
   "source": [
    "def inv_time():\n",
    "    setup_code = '''\n",
    "from __main__ import cal_det, cal_inv\n",
    "import timeit\n",
    "    '''\n",
    "    test_code = '''\n",
    "cal_det()\n",
    "cal_inv()\n",
    "'''\n",
    "    times = timeit.repeat(setup=setup_code, stmt=test_code, repeat=1, number=1)\n",
    "    return min(times)\n",
    "\n",
    "\n",
    "def cal_inv():\n",
    "    global matrix, m\n",
    "    x1 = matrix\n",
    "\n",
    "    m = [None for i in range(9)]\n",
    "    if all([i.replace('-', '').replace('.', '').isdigit() for i in x1]):\n",
    "        x = [float(i) for i in x1]\n",
    "        m[0] = x[4] * x[8] - x[5] * x[7]\n",
    "        m[1] = x[2] * x[7] - x[1] * x[8]\n",
    "        m[2] = x[1] * x[5] - x[2] * x[4]\n",
    "        m[3] = x[5] * x[6] - x[3] * x[8]\n",
    "        m[4] = x[0] * x[8] - x[2] * x[6]\n",
    "        m[5] = x[2] * x[3] - x[0] * x[5]\n",
    "        m[6] = x[3] * x[7] - x[4] * x[6]\n",
    "        m[7] = x[1] * x[6] - x[0] * x[7]\n",
    "        m[8] = x[0] * x[4] - x[1] * x[3]\n",
    "    else:\n",
    "        x = x1\n",
    "        e1 = f'{x[4]} * {x[8]} - {x[5]} * {x[7]}'\n",
    "        e2 = f'{x[2]} * {x[7]} - {x[1]} * {x[8]}'\n",
    "        e3 = f'{x[1]} * {x[5]} - {x[2]} * {x[4]}'\n",
    "        e4 = f'{x[5]} * {x[6]} - {x[3]} * {x[8]}'\n",
    "        e5 = f'{x[0]} * {x[8]} - {x[2]} * {x[6]}'\n",
    "        e6 = f'{x[2]} * {x[3]} - {x[0]} * {x[5]}'\n",
    "        e7 = f'{x[3]} * {x[7]} - {x[4]} * {x[6]}'\n",
    "        e8 = f'{x[1]} * {x[6]} - {x[0]} * {x[7]}'\n",
    "        e9 = f'{x[0]} * {x[4]} - {x[1]} * {x[3]}'\n",
    "        sym = list(set([i for j in x1 for i in j if i.isalpha()]))\n",
    "        for i in sym:\n",
    "            exec(f\"{i} = Symbol('{i}')\")\n",
    "        m[0] = f'{simplify(e1)}'.replace('**', '^').replace('*', '')\n",
    "        m[1] = f\"{simplify(e2)}\".replace('**', '^').replace('*', '')\n",
    "        m[2] = f\"{simplify(e3)}\".replace('**', '^').replace('*', '')\n",
    "        m[3] = f\"{simplify(e4)}\".replace('**', '^').replace('*', '')\n",
    "        m[4] = f\"{simplify(e5)}\".replace('**', '^').replace('*', '')\n",
    "        m[5] = f\"{simplify(e6)}\".replace('**', '^').replace('*', '')\n",
    "        m[6] = f\"{simplify(e7)}\".replace('**', '^').replace('*', '')\n",
    "        m[7] = f\"{simplify(e8)}\".replace('**', '^').replace('*', '')\n",
    "        m[8] = f\"{simplify(e9)}\".replace('**', '^').replace('*', '')\n",
    "    return m\n",
    "\n",
    "\n",
    "def inv(sender):\n",
    "    global matrix, m\n",
    "    # try:\n",
    "    t1 = time()\n",
    "    det1 = cal_det()\n",
    "    if det1 == 0:\n",
    "        answer.value = r\"<font color = 'white'><font size='3px'>$$ Inverse: \\ Determinant \\ cannot \\ be \\ 0 $$\"\n",
    "        time1.value = r\"<font color = 'white'><font size='3px'>Time taken: N/A\"\n",
    "    else:\n",
    "        if str(det1).endswith('.0'):\n",
    "            det2 = int(det1)\n",
    "        else:\n",
    "            try:\n",
    "                det2 = round(det1,5)\n",
    "            except: \n",
    "                det2 = det1\n",
    "        m = cal_inv()\n",
    "        k = []\n",
    "        for i in m:\n",
    "            if str(i).endswith('.0'):\n",
    "                k.append(int(i))\n",
    "            else:\n",
    "                try:\n",
    "                    k.append(round(i,5))\n",
    "                except:\n",
    "                    k.append(i)\n",
    "        isneg = ''\n",
    "        try:\n",
    "            if det2<0:\n",
    "                isneg = '-'\n",
    "                det2 *= -1\n",
    "        except:\n",
    "            pass\n",
    "\n",
    "        det2 = r'1{det}'.replace(\"det\", f'{det2}')\n",
    "        y = inv_time()\n",
    "        plc1 = r'Inverse: {} \\frac{} \\begin{}  {} & {} & {} \\\\ {} & {} & {} \\\\ {} & {} & {} \\end{}'.format(isneg,\n",
    "            det2, \"{pmatrix}\", k[0], k[1], k[2], k[3], k[4], k[5], k[6], k[7], k[8], \"{pmatrix}\")\n",
    "        plc2 = f'Time taken: {f\"{y:.13f}\"} seconds'\n",
    "        answer.value = r\"<font color = 'white'><font size='3px'> $$ {} $$ \".format(\n",
    "            plc1)\n",
    "        time1.value = r\"<font color = 'white'><font size='3px'> {}  \".format(\n",
    "            plc2)\n",
    "#     except:\n",
    "#         answer.value = r\"<font color = 'white'><font size='3px'>Inverse: N/A\"\n",
    "#         time1.value = r\"<font color = 'white'><font size='3px'>Time taken: N/A\"\n",
    "\n",
    "\n",
    "dic1 = {'answer': '$$Inverse:$$', 'time1': \"Time taken:\"}\n",
    "items = [Text(layout=Layout(width='60px', height='30px'))\n",
    "         for w in range(1, 10)]\n",
    "lst = [HBox(items[:3]), HBox(items[3:6]), HBox(items[6:9])]\n",
    "display(VBox(lst))\n",
    "for i in range(9):\n",
    "    exec(f'items[{i}].on_submit(inv)')\n",
    "for j in dic1:\n",
    "    exec(\n",
    "        f\"\"\"{j}=HTMLMath(value=r\"<font color = 'white'><font size='3px'>{dic1[j]}\")\"\"\")\n",
    "    exec(f'display({j})')"
   ]
  },
  {
   "cell_type": "code",
   "execution_count": 132,
   "metadata": {},
   "outputs": [
    {
     "data": {
      "application/vnd.jupyter.widget-view+json": {
       "model_id": "9434a2728bef4eeb82b8ea81173a16f2",
       "version_major": 2,
       "version_minor": 0
      },
      "text/plain": [
       "VBox(children=(HBox(children=(HTMLMath(value=\"<font color = 'white'><font size='3px'>EQ1: (\"), Text(value='', …"
      ]
     },
     "metadata": {},
     "output_type": "display_data"
    },
    {
     "data": {
      "application/vnd.jupyter.widget-view+json": {
       "model_id": "1600dd534fef4413827e82c6e82ac801",
       "version_major": 2,
       "version_minor": 0
      },
      "text/plain": [
       "HTMLMath(value=\"<font color = 'white'><font size='3px'>x :\")"
      ]
     },
     "metadata": {},
     "output_type": "display_data"
    },
    {
     "data": {
      "application/vnd.jupyter.widget-view+json": {
       "model_id": "335b35d2dbc24d669b3e9750f3477ee1",
       "version_major": 2,
       "version_minor": 0
      },
      "text/plain": [
       "HTMLMath(value=\"<font color = 'white'><font size='3px'>y :\")"
      ]
     },
     "metadata": {},
     "output_type": "display_data"
    },
    {
     "data": {
      "application/vnd.jupyter.widget-view+json": {
       "model_id": "8f2b3f8dc402434681a904f7d46f3b40",
       "version_major": 2,
       "version_minor": 0
      },
      "text/plain": [
       "HTMLMath(value=\"<font color = 'white'><font size='3px'>z :\")"
      ]
     },
     "metadata": {},
     "output_type": "display_data"
    },
    {
     "data": {
      "application/vnd.jupyter.widget-view+json": {
       "model_id": "7d55cc0b39554f4b91aa77b2270e9672",
       "version_major": 2,
       "version_minor": 0
      },
      "text/plain": [
       "HTMLMath(value=\"<font color = 'white'><font size='3px'>Time taken:\")"
      ]
     },
     "metadata": {},
     "output_type": "display_data"
    }
   ],
   "source": [
    "def solsys_time():\n",
    "    setup_code = '''\n",
    "from __main__ import cal_det, cal_inv, calsol\n",
    "import timeit\n",
    "    '''\n",
    "    test_code = '''\n",
    "cal_det()\n",
    "cal_inv()\n",
    "calsol()\n",
    "'''\n",
    "    times = timeit.repeat(setup=setup_code, stmt=test_code, repeat=1,\n",
    "                          number=1)\n",
    "    return min(times)\n",
    "\n",
    "\n",
    "def calsol():\n",
    "    global m, det1, a, b, c\n",
    "    newdet = int(det1*1e6)\n",
    "    a1 = ((a * m[0]) + (b * m[1]) + (c * m[2])) * 1e6\n",
    "    a2 = ((a * m[3]) + (b * m[4]) + (c * m[5])) * 1e6\n",
    "    a3 = ((a * m[6]) + (b * m[7]) + (c * m[8])) * 1e6\n",
    "    x = Fraction(int(a1), newdet)\n",
    "    y = Fraction(int(a2), newdet)\n",
    "    z = Fraction(int(a3), newdet)\n",
    "    return [x, y, z]\n",
    "\n",
    "\n",
    "def solsys(sender):\n",
    "    global matrix, m, det1, a, b, c\n",
    "    det1 = cal_det()\n",
    "    if det1 == 0:\n",
    "        x1.value = r\"<font color = 'white'><font size='3px'>x : Determinant cannot be 0\"\n",
    "        y1.value = r\"<font color = 'white'><font size='3px'>y : N/A\"\n",
    "        z1.value = r\"<font color = 'white'><font size='3px'>z : N/A\"\n",
    "        time1.value = r\"<font color = 'white'><font size='3px'>Time taken: N/A\"\n",
    "    else:\n",
    "        m = cal_inv()\n",
    "        a = float(f'{items[9].value}')\n",
    "        b = float(f'{items[10].value}')\n",
    "        c = float(f'{items[11].value}')\n",
    "        ans = calsol()\n",
    "        t = solsys_time()\n",
    "        for i in range(3):\n",
    "            if int(ans[i]) != ans[i]:\n",
    "                v = str(ans[i]).split('/')\n",
    "                if ans[i] < 0:\n",
    "                    v = [str(i).replace('-','') for i in v]\n",
    "                    ans[i] = r'- \\frac{num}{den}'.replace(\"num\", f'{v[0]}').replace(\"den\", f'{v[1]}')\n",
    "                else:\n",
    "                    ans[i] = r'\\frac{num}{den}'.replace(\"num\", f'{v[0]}').replace(\"den\", f'{v[1]}')\n",
    "         \n",
    "        x1.value = r\"<font color = 'white'><font size='3px'> $$x : {} $$\".format(\n",
    "            ans[0])\n",
    "        y1.value = r\"<font color = 'white'><font size='3px'> $$y :  {} $$\".format(\n",
    "            ans[1])\n",
    "        z1.value = r\"<font color = 'white'><font size='3px'> $$z :  {} $$\".format(\n",
    "            ans[2])\n",
    "        plc2 = f'Time taken: {f\"{t:.13f}\"} seconds'\n",
    "        time1.value = r\"<font color = 'white'><font size='3px'> {}  \".format(\n",
    "            plc2)\n",
    "\n",
    "\n",
    "dic1 = {'x1': 'x :', 'y1': 'y :', 'z1': 'z :', 'time1': \"Time taken:\"}\n",
    "dic2 = {'eq1': 'EQ1: (', 'eq2': 'EQ2: (', 'eq3': 'EQ3: (',\n",
    "        'xpl': 'x) + (', 'ypl': 'y) + (', 'zpl': 'z) ='}\n",
    "\n",
    "\n",
    "for j in dic2:\n",
    "    exec(\n",
    "        f\"\"\"{j}=HTMLMath(value=r\"<font color = 'white'><font size='3px'>{dic2[j]}\")\"\"\")\n",
    "items = [Text(layout=Layout(width='60px', height='30px'))\n",
    "         for w in range(1, 13)]\n",
    "row1 = HBox([eq1, items[0], xpl, items[1], ypl, items[2], zpl, items[9]])\n",
    "row2 = HBox([eq2, items[3], xpl, items[4], ypl, items[5], zpl, items[10]])\n",
    "row3 = HBox([eq3, items[6], xpl, items[7], ypl, items[8], zpl, items[11]])\n",
    "\n",
    "display(VBox([row1, row2, row3]))\n",
    "for i in range(12):\n",
    "    exec(f'items[{i}].on_submit(solsys)')\n",
    "for j in dic1:\n",
    "    exec(\n",
    "        f\"\"\"{j}=HTMLMath(value=r\"<font color = 'white'><font size='3px'>{dic1[j]}\")\"\"\")\n",
    "    exec(f'display({j})')"
   ]
  },
  {
   "cell_type": "markdown",
   "metadata": {},
   "source": [
    "Frac $ - \\frac 12 $\n",
    "Frac $$ - \\frac 12 $$"
   ]
  }
 ],
 "metadata": {
  "hide_input": false,
  "kernelspec": {
   "display_name": "Python 3",
   "language": "python",
   "name": "python3"
  },
  "language_info": {
   "codemirror_mode": {
    "name": "ipython",
    "version": 3
   },
   "file_extension": ".py",
   "mimetype": "text/x-python",
   "name": "python",
   "nbconvert_exporter": "python",
   "pygments_lexer": "ipython3",
   "version": "3.7.6"
  },
  "toc": {
   "base_numbering": 1,
   "nav_menu": {},
   "number_sections": false,
   "sideBar": true,
   "skip_h1_title": false,
   "title_cell": "Table of Contents",
   "title_sidebar": "Contents",
   "toc_cell": false,
   "toc_position": {},
   "toc_section_display": true,
   "toc_window_display": false
  }
 },
 "nbformat": 4,
 "nbformat_minor": 4
}
